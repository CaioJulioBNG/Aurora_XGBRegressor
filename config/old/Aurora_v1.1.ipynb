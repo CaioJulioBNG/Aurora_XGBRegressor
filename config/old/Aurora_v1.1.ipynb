{
 "cells": [
  {
   "cell_type": "markdown",
   "id": "9bdd3cc0-33b1-499e-ae6f-721291443daf",
   "metadata": {},
   "source": [
    "## Aurora v 1.1 - Estável"
   ]
  },
  {
   "cell_type": "code",
   "execution_count": 39,
   "id": "fcc9d43c-f257-4172-a870-d26890517da3",
   "metadata": {},
   "outputs": [
    {
     "name": "stdout",
     "output_type": "stream",
     "text": [
      "Average MAE score:\n",
      "34.11836874399781\n",
      "Previsão salva com sucesso!\n",
      "Aurora Finalizada Com Sucesso!\n"
     ]
    }
   ],
   "source": [
    "import pandas as pd\n",
    "from xgboost import XGBRegressor\n",
    "from sklearn.metrics import mean_squared_error\n",
    "from sklearn.model_selection import cross_val_score\n",
    "from sklearn.impute import SimpleImputer\n",
    "\n",
    "\n",
    "# v 1.1 - Cross-Validation = 34.11 / Previsão Final = 40.20\n",
    "\n",
    "# Carregamento dos dados\n",
    "data_treino = pd.read_csv('/home/caio/Estudo/kaggle_02/train.csv')\n",
    "data_prev = pd.read_csv('/home/caio/Estudo/kaggle_02/test.csv')\n",
    "\n",
    "class Aurora:\n",
    "\n",
    "    def __init__(self, data_treino, data_previsao):\n",
    "        self.data_treino = data_treino                                                             # Carga DataFrame Treino\n",
    "        self.data_treino = self.data_treino.dropna(axis = 0, subset=['Price'], inplace=True)\n",
    "        self.data_previsao = data_previsao                                                         # Carga DataFrame Previsão (Previsão = feature)\n",
    "        self.target, self.feature_categorical, self.feature_numerical, self.previsao_categorical, self.previsao_numerical = self.splitter(data_treino, data_previsao)\n",
    "        \n",
    "        \n",
    "        \n",
    "        # Tratemento Categórico\n",
    "        self.feature_categorical_encoded = self.one_hot(self.feature_categorical)\n",
    "        self.previsao_categorical_encoded = self.one_hot(self.previsao_categorical)\n",
    "        \n",
    "        # Juntando data Categorica(tratada) e data numérica\n",
    "        self.feature_completed = self.fusion(self.feature_categorical_encoded, self.feature_numerical)\n",
    "        self.previsao_completed = self.fusion(self.previsao_categorical_encoded, self.previsao_numerical)\n",
    "\n",
    "\n",
    "        # Treinando Modelo\n",
    "        self.treino_final = self.treino(self.feature_completed, self.target)\n",
    "\n",
    "        # Fazendo Previsão\n",
    "        self.prev = self.previsao(self.previsao_completed)\n",
    "\n",
    "        # Salvando Arquivo\n",
    "        self.impressao(self.prev)\n",
    "\n",
    "        print('Aurora Finalizada Com Sucesso!')\n",
    "\n",
    "\n",
    "    def splitter(self, data_treino, data_previsao):\n",
    "        feature = data_treino.drop(columns=['Price'])\n",
    "        target = data_treino['Price']\n",
    "        feature_categorical = feature.select_dtypes(include=['object', 'category'])\n",
    "        feature_numerical = feature.select_dtypes(include=['int64', 'float64'])\n",
    "        previsao_categorical = data_previsao.select_dtypes(include=['object', 'category'])\n",
    "        previsao_numerical = data_previsao.select_dtypes(include=['int64', 'float64'])\n",
    "\n",
    "        return target, feature_categorical, feature_numerical, previsao_categorical, previsao_numerical\n",
    "\n",
    "    def one_hot(self, data):\n",
    "        return pd.get_dummies(data)\n",
    "\n",
    "    def fusion(self, data1, data2):\n",
    "        return data1.join(data2, how='left')\n",
    "\n",
    "    def treino(self, feature, target):\n",
    "        self.model = XGBRegressor()\n",
    "        scores = -1 * cross_val_score(self.model, feature, target,\n",
    "                              cv=5,\n",
    "                              scoring='neg_mean_absolute_error')\n",
    "\n",
    "        self.model.fit(feature, target)\n",
    "\n",
    "        print(\"Average MAE score:\")\n",
    "        print(scores.mean())\n",
    "\n",
    "    def previsao(self, data):\n",
    "        if self.model is None:\n",
    "            raise ValueError(\"O Modelo Não Foi Treinado!\")\n",
    "\n",
    "        previsao = self.model.predict(data)\n",
    "\n",
    "        return previsao\n",
    "\n",
    "    def impressao(self, previsao):\n",
    "        resultado = pd.DataFrame({'id': self.data_previsao['id'], 'Price_Prediction': previsao})\n",
    "        resultado.to_csv('/home/caio/Estudo/kaggle_02/submission.csv', index=False)\n",
    "        print(\"Previsão salva com sucesso!\")\n",
    "\n",
    "\n",
    "# Instanciando a classe Aurora\n",
    "teste = Aurora(data_treino, data_prev)\n"
   ]
  },
  {
   "cell_type": "code",
   "execution_count": null,
   "id": "954fa745-3e91-452c-ab1e-22a5d9aec911",
   "metadata": {},
   "outputs": [],
   "source": []
  }
 ],
 "metadata": {
  "kernelspec": {
   "display_name": "Python 3 (ipykernel)",
   "language": "python",
   "name": "python3"
  },
  "language_info": {
   "codemirror_mode": {
    "name": "ipython",
    "version": 3
   },
   "file_extension": ".py",
   "mimetype": "text/x-python",
   "name": "python",
   "nbconvert_exporter": "python",
   "pygments_lexer": "ipython3",
   "version": "3.12.8"
  }
 },
 "nbformat": 4,
 "nbformat_minor": 5
}
